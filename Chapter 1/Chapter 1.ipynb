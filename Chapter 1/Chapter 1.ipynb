{
 "cells": [
  {
   "cell_type": "markdown",
   "metadata": {},
   "source": [
    "                                            Exercises"
   ]
  },
  {
   "cell_type": "markdown",
   "metadata": {},
   "source": [
    "    Reinforcement"
   ]
  },
  {
   "cell_type": "code",
   "execution_count": 6,
   "metadata": {},
   "outputs": [
    {
     "name": "stdout",
     "output_type": "stream",
     "text": [
      "True\n",
      "False\n",
      "False\n",
      "True\n"
     ]
    }
   ],
   "source": [
    "#------R-1.1--\n",
    "\n",
    "def is_multiple(n,m):\n",
    "    if m == 0: return False\n",
    "    return (n%m == 0)\n",
    "\n",
    "print(is_multiple(10,5))\n",
    "print(is_multiple(9,2))\n",
    "print(is_multiple(3,4))\n",
    "print(is_multiple(8,2))"
   ]
  },
  {
   "cell_type": "code",
   "execution_count": 9,
   "metadata": {},
   "outputs": [
    {
     "name": "stdout",
     "output_type": "stream",
     "text": [
      "True\n",
      "False\n",
      "False\n",
      "True\n",
      "False\n"
     ]
    }
   ],
   "source": [
    "#------R-1.2--\n",
    "\n",
    "def is_even(k:int):\n",
    "    assert type(k) == int, 'input must be integer'\n",
    "    return (k&1 == 0)\n",
    "\n",
    "print(is_even(4))\n",
    "print(is_even(7))\n",
    "print(is_even(1))\n",
    "print(is_even(0))\n",
    "print(is_even(-1))"
   ]
  },
  {
   "cell_type": "code",
   "execution_count": 14,
   "metadata": {},
   "outputs": [
    {
     "name": "stdout",
     "output_type": "stream",
     "text": [
      "(1, 4)\n",
      "(0, 9)\n",
      "(1, 90)\n",
      "(1, 2)\n",
      "(1, 999)\n"
     ]
    }
   ],
   "source": [
    "#------- R-1.3--\n",
    "\n",
    "def minmax(data):\n",
    "    if len(data):\n",
    "        small = big = data[0]\n",
    "        for val in data:\n",
    "            if val < small:small = val\n",
    "            elif val > big: big = val\n",
    "        return (small, big)\n",
    "    \n",
    "    else:\n",
    "        print('Check your Program')\n",
    "        return\n",
    "\n",
    "print(minmax([1,2,3,4]))\n",
    "print(minmax([9,7,4,0]))\n",
    "print(minmax([7,1,90,88]))\n",
    "print(minmax([1,2]))\n",
    "print(minmax([1,2,3,999]))"
   ]
  },
  {
   "cell_type": "code",
   "execution_count": 17,
   "metadata": {},
   "outputs": [
    {
     "name": "stdout",
     "output_type": "stream",
     "text": [
      "506\n",
      "204\n",
      "140\n",
      "14\n"
     ]
    }
   ],
   "source": [
    "#----R-1.4 and R-1.5----\n",
    "\n",
    "def Posi(n):\n",
    "    return sum(x*x for x in range(1,n))\n",
    "\n",
    "print(Posi(12))\n",
    "print(Posi(9))\n",
    "print(Posi(8))\n",
    "print(Posi(4))"
   ]
  },
  {
   "cell_type": "code",
   "execution_count": 25,
   "metadata": {},
   "outputs": [
    {
     "name": "stdout",
     "output_type": "stream",
     "text": [
      "165\n",
      "1\n",
      "84\n",
      "0 : 0\n",
      "1 : 0\n",
      "2 : 1\n",
      "3 : 1\n",
      "4 : 10\n",
      "5 : 10\n",
      "6 : 35\n",
      "7 : 35\n",
      "8 : 84\n",
      "9 : 84\n"
     ]
    }
   ],
   "source": [
    "#----R-1.6 and R-1.7\n",
    "\n",
    "def sumsquaresodd(n):\n",
    "    return sum(x*x for x in range (1,n) if x%2==1)\n",
    "\n",
    "print(sumsquaresodd(10))\n",
    "print(sumsquaresodd(2))\n",
    "print(sumsquaresodd(9))\n",
    "\n",
    "for n in range (10):\n",
    "    print(f'{n} : {sumsquaresodd(n)}')"
   ]
  },
  {
   "cell_type": "code",
   "execution_count": null,
   "metadata": {},
   "outputs": [],
   "source": [
    "#----- R-1.8----\n",
    "\n",
    "\"\"\"Answer is n+k\"\"\""
   ]
  },
  {
   "cell_type": "code",
   "execution_count": 27,
   "metadata": {},
   "outputs": [
    {
     "data": {
      "text/plain": [
       "[50, 60, 70, 80]"
      ]
     },
     "execution_count": 27,
     "metadata": {},
     "output_type": "execute_result"
    }
   ],
   "source": [
    "#----R-1.9---\n",
    "\n",
    "list(range(50, 90, 10))"
   ]
  },
  {
   "cell_type": "code",
   "execution_count": 29,
   "metadata": {},
   "outputs": [
    {
     "data": {
      "text/plain": [
       "[8, 6, 4, 2, 0, -2, -4, -6, -8]"
      ]
     },
     "execution_count": 29,
     "metadata": {},
     "output_type": "execute_result"
    }
   ],
   "source": [
    "#----- R-1.10--\n",
    "\n",
    "list(range(8,-10,-2))"
   ]
  },
  {
   "cell_type": "code",
   "execution_count": 32,
   "metadata": {},
   "outputs": [
    {
     "name": "stdout",
     "output_type": "stream",
     "text": [
      "[1, 2, 4, 8, 16, 32, 64, 128, 256]\n",
      "[1, 2, 4, 8, 16, 32, 64, 128, 256]\n"
     ]
    }
   ],
   "source": [
    "#----- R-1.11---\n",
    "\n",
    "print([2**x for x in range(9)])\n",
    "            # or\n",
    "print([pow(2,x) for x in range(9)])"
   ]
  },
  {
   "cell_type": "code",
   "execution_count": 35,
   "metadata": {},
   "outputs": [
    {
     "name": "stdout",
     "output_type": "stream",
     "text": [
      "4 2 4 3 7 3 5 8 1 5 6 6 2 1 8 7 6 3 3 5 1 3 10 7 4 8 10 2 9 2 3 6 2 7 1 5 2 2 10 10 4 9 1 3 10 2 7 3 2 6 10 5 10 10 3 7 7 2 8 6 3 2 10 10 8 9 5 8 4 8 9 6 5 6 9 5 4 3 7 7 7 9 1 5 3 3 5 6 8 5 10 9 9 6 5 7 2 7 8 8 "
     ]
    }
   ],
   "source": [
    "#----- R-1.12--\n",
    "\n",
    "import random\n",
    "\n",
    "def randchoice(data):\n",
    "    return data[random.randrange(0, len(data))]\n",
    "\n",
    "data = [1,2,3,4,5,6,7,8,9,10]\n",
    "for _ in range(100):\n",
    "    print(randchoice(data), end=' ')"
   ]
  },
  {
   "cell_type": "markdown",
   "metadata": {},
   "source": [
    "--"
   ]
  },
  {
   "cell_type": "markdown",
   "metadata": {},
   "source": [
    "    Creativity"
   ]
  },
  {
   "cell_type": "code",
   "execution_count": 39,
   "metadata": {},
   "outputs": [
    {
     "name": "stdout",
     "output_type": "stream",
     "text": [
      "[4, 3, 2, 1]\n",
      "[6, 7, 8, 9]\n",
      "[9, 8, 0, 1]\n"
     ]
    }
   ],
   "source": [
    "#----- C-1.13--\n",
    "\n",
    "def reverses(array):\n",
    "    length = len(array)\n",
    "    reversedArray = [None]*length\n",
    "    for val in range(length):\n",
    "        reversedArray[length-1-val] = array[val]\n",
    "    return reversedArray\n",
    "\n",
    "print(reverses([1,2,3,4]))\n",
    "print(reverses([9,8,7,6]))\n",
    "print(reverses([1,0,8,9]))"
   ]
  },
  {
   "cell_type": "code",
   "execution_count": 41,
   "metadata": {},
   "outputs": [
    {
     "name": "stdout",
     "output_type": "stream",
     "text": [
      "(1, 3)\n",
      "(1, 5)\n",
      "(1, 7)\n",
      "(1, 9)\n",
      "(3, 1)\n",
      "(3, 5)\n",
      "(3, 7)\n",
      "(3, 9)\n",
      "(5, 1)\n",
      "(5, 3)\n",
      "(5, 7)\n",
      "(5, 9)\n",
      "(7, 1)\n",
      "(7, 3)\n",
      "(7, 5)\n",
      "(7, 9)\n",
      "(9, 1)\n",
      "(9, 3)\n",
      "(9, 5)\n",
      "(9, 7)\n"
     ]
    }
   ],
   "source": [
    "#----- C-1.14---\n",
    "\n",
    "def ProductOdd(array):\n",
    "    for num1 in array:\n",
    "        for num2 in array:\n",
    "            if num1 != num2 and (num1*num2)%2 != 0:\n",
    "                yield(num1,num2)\n",
    "\n",
    "data = [1,2,3,4,5,6,7,8,9,10]\n",
    "gen = ProductOdd(data)\n",
    "for item in gen:\n",
    "    print(item)"
   ]
  },
  {
   "cell_type": "code",
   "execution_count": 44,
   "metadata": {},
   "outputs": [
    {
     "name": "stdout",
     "output_type": "stream",
     "text": [
      "True\n",
      "True\n",
      "False\n",
      "False\n"
     ]
    }
   ],
   "source": [
    "#---- C.1.15--\n",
    "\n",
    "def sequence(array):\n",
    "    num_set = set()\n",
    "    for val in array:\n",
    "        if val in num_set: return False\n",
    "        else: num_set.add(val)\n",
    "    return True\n",
    "\n",
    "print(sequence([1,2,3,4]))\n",
    "print(sequence([1,2,3,4,7]))\n",
    "print(sequence([2,2,9,0,10]))\n",
    "print(sequence([2,9,9,12]))"
   ]
  },
  {
   "cell_type": "code",
   "execution_count": null,
   "metadata": {},
   "outputs": [],
   "source": [
    "# --- C-1.16---\n",
    "\n",
    "\"\"\"\n",
    "Lists are mutable, so what changes in the list are the references to new, immutable objects.\n",
    "\n",
    "In other words, scaling creates a new object, but its reference is stored in the original list structure\n",
    "\n",
    "\"\"\""
   ]
  },
  {
   "cell_type": "code",
   "execution_count": 50,
   "metadata": {},
   "outputs": [
    {
     "name": "stdout",
     "output_type": "stream",
     "text": [
      "Bad scaling\n",
      "[1, 2, 3, 4, 5, 6, 7, 8, 9, 10]\n",
      "[1, 2, 3, 4, 5, 6, 7, 8, 9, 10]\n",
      "\n",
      "Good scaling\n",
      "[1, 2, 3, 4, 5, 6, 7, 8, 9, 10]\n",
      "[5, 10, 15, 20, 25, 30, 35, 40, 45, 50]\n"
     ]
    },
    {
     "data": {
      "text/plain": [
       "\"\\nExplanation: val *= factor creates a new instance of val, but doesn't change the reference to the original object in the list\\ndata[i] changes the reference to element i, which changes the original array.\\n\\n\""
      ]
     },
     "execution_count": 50,
     "metadata": {},
     "output_type": "execute_result"
    }
   ],
   "source": [
    "# ---- C-1.17--\n",
    "\n",
    "def scale(data, factor):\n",
    "    for val in data:\n",
    "        val *= factor\n",
    "\n",
    "print('Bad scaling')        \n",
    "data = [1,2,3,4,5,6,7,8,9,10]\n",
    "print(data)\n",
    "scale(data, 5)\n",
    "print(data)\n",
    "\n",
    "\n",
    "def goodscale(data, factor):\n",
    "    #data*=factor #This will concatenate the array with itself multiple times!  \n",
    "    for i in range (len(data)):\n",
    "        data[i]*=factor\n",
    "print ('\\nGood scaling')\n",
    "data = [1,2,3,4,5,6,7,8,9,10]\n",
    "print (data)\n",
    "goodscale(data, 5)\n",
    "print (data)\n",
    "\n",
    "\n",
    "\"\"\"\n",
    "Explanation: val *= factor creates a new instance of val, but doesn't change the reference to the original object in the list\n",
    "data[i] changes the reference to element i, which changes the original array.\n",
    "\n",
    "\"\"\""
   ]
  },
  {
   "cell_type": "code",
   "execution_count": 51,
   "metadata": {},
   "outputs": [
    {
     "data": {
      "text/plain": [
       "[0, 2, 6, 12, 20, 30, 42, 56, 72, 90]"
      ]
     },
     "execution_count": 51,
     "metadata": {},
     "output_type": "execute_result"
    }
   ],
   "source": [
    "# ---- C-1.18--\n",
    "\n",
    "def comprehension():\n",
    "    a = 0\n",
    "    factor = 0\n",
    "    while True:\n",
    "        yield a\n",
    "        factor += 1\n",
    "        a += 2*factor\n",
    "        \n",
    "gen = comprehension()\n",
    "[next(gen) for _ in range(10)]"
   ]
  },
  {
   "cell_type": "code",
   "execution_count": 52,
   "metadata": {},
   "outputs": [
    {
     "name": "stdout",
     "output_type": "stream",
     "text": [
      "['a', 'b', 'c', 'd', 'e', 'f', 'g', 'h', 'i', 'j', 'k', 'l', 'm', 'n', 'o', 'p', 'q', 'r', 's', 't', 'u', 'v', 'w', 'x', 'y', 'z']\n"
     ]
    }
   ],
   "source": [
    "# ----- C-1.19--\n",
    "\n",
    "#chr(97) is 'a'\n",
    "\n",
    "print([chr(97+x) for x in range(26)])"
   ]
  },
  {
   "cell_type": "code",
   "execution_count": 53,
   "metadata": {},
   "outputs": [
    {
     "name": "stdout",
     "output_type": "stream",
     "text": [
      "\n",
      "Inplace shuffle method\n",
      "[5, 1, 3, 6, 4, 2]\n"
     ]
    }
   ],
   "source": [
    "# ------ C-1.20--\n",
    "\n",
    "#Gradual swap solution:\n",
    "def custom_shuffle_inplace(data):\n",
    "    l = len(data)\n",
    "    for i in range(l):\n",
    "        choice = random.randint(0, l-1-i)\n",
    "        data[choice], data[l-1-i] = data[l-1-i], data[choice] #swap choice index to then end of the subarray\n",
    "\n",
    "\n",
    "print('\\nInplace shuffle method')\n",
    "data = [1,2,3,4,5,6]\n",
    "custom_shuffle_inplace(data); print(data)"
   ]
  },
  {
   "cell_type": "code",
   "execution_count": 55,
   "metadata": {},
   "outputs": [
    {
     "name": "stdout",
     "output_type": "stream",
     "text": [
      "zzzzzzzzzzzzzzzzzzzzzzzzzzzzzzzzzzzzzzzzzzz\n",
      "aaaaaaaaaaaaaaaaaaaaaaaaaaaaaaaaaaaaaaaaaaaaaaaaaaaaaaaa\n",
      "bbbbbbbbbbbbbbbbbbbbbbbbbbbbbbbbbbbbbbbbbbbbbbbbbbb\n",
      ",mmmmmmmmmmmmmmmmmmmmmmmmmmmmmmmmmmmmmmmmmmmmmmmmmmm\n",
      "pppppppppyyyyyyyyyyyyyyyyyyyyyyyyyyyyyyyyyyyyyyyyyyy\n",
      "ooooooooooooooooooooooooooooooooooooooooooooo\n",
      "ooooooooooooooooooooooooooooooooooooooooooooo\n",
      "pppppppppppppppppppppppppppppppppppppppppppppppppppp\n"
     ]
    }
   ],
   "source": [
    "#--------C1-21 (Note, a raise EOFError is raised artificially)\n",
    "def read_inputs(filepath):\n",
    "    fp = open(filepath)\n",
    "    lines = []\n",
    "    while True:\n",
    "        try:\n",
    "            line = fp.readline()\n",
    "            if line == '': raise EOFError\n",
    "            lines.append(line[:-1])  #This will not execute if the EOFError is raised, also need to remove the \\n\n",
    "        except EOFError:\n",
    "            for line in reversed(lines):\n",
    "                print (line)\n",
    "            return #This will also serve to break the infinite loop\n",
    "            \n",
    "        \n",
    "read_inputs(r'p.txt')"
   ]
  },
  {
   "cell_type": "code",
   "execution_count": 58,
   "metadata": {},
   "outputs": [
    {
     "name": "stdout",
     "output_type": "stream",
     "text": [
      "[4, 10, 18]\n",
      "[21, 32, 45]\n",
      "[9, 0, 48]\n"
     ]
    }
   ],
   "source": [
    "# -------- C-1.22--\n",
    "\n",
    "def dot(arrayA,arrayB):\n",
    "    assert len(arrayA) == len(arrayB)\n",
    "    c = [None]*len(arrayA)\n",
    "    for i in range(len(arrayA)):\n",
    "        c[i] = arrayA[i] * arrayB[i]\n",
    "    return c\n",
    "\n",
    "print(dot([1,2,3],[4,5,6]))\n",
    "print(dot([3,4,5],[7,8,9]))\n",
    "print(dot([9,0,8],[1,9,6]))"
   ]
  },
  {
   "cell_type": "code",
   "execution_count": 62,
   "metadata": {},
   "outputs": [
    {
     "name": "stdout",
     "output_type": "stream",
     "text": [
      "Don't try buffer overflow attacks in Python!\n",
      "Don't try buffer overflow attacks in Python!\n",
      "[1, 2, 9, 4, 30]\n"
     ]
    }
   ],
   "source": [
    "# ----- C-1.23--\n",
    "\n",
    "def array_index_handler(array, index, value = 100):\n",
    "    try:\n",
    "        array[index] = value\n",
    "    except IndexError as e:\n",
    "        print (\"Don't try buffer overflow attacks in Python!\")\n",
    "        \n",
    "array = [1,2,3,4,5]\n",
    "array_index_handler(array, 10, 9)\n",
    "array_index_handler(array, 2, 9)\n",
    "array_index_handler(array, -1, 30)\n",
    "array_index_handler(array, -12, 3)\n",
    "print (array)"
   ]
  },
  {
   "cell_type": "code",
   "execution_count": 64,
   "metadata": {},
   "outputs": [
    {
     "name": "stdout",
     "output_type": "stream",
     "text": [
      "5\n",
      "4\n"
     ]
    }
   ],
   "source": [
    "# ----- C-1.24--\n",
    "\n",
    "def vowel_counter(data, vowels = {'a','e','i','o','u'}):\n",
    "    l_data = data.lower()\n",
    "    counter = 0\n",
    "    for char in l_data:\n",
    "        if char in vowels: counter +=1\n",
    "    return counter\n",
    "\n",
    "\n",
    "print(vowel_counter('abcdefghijklmnopqrstuvwxyz'))\n",
    "print(vowel_counter('aaaayyyyyy'))"
   ]
  },
  {
   "cell_type": "code",
   "execution_count": 69,
   "metadata": {},
   "outputs": [
    {
     "name": "stdout",
     "output_type": "stream",
     "text": [
      "Appending Solution\n",
      "Hello my name is Mike\n"
     ]
    }
   ],
   "source": [
    "# ----- C-1.25--\n",
    "\n",
    "def remove_punctuation(data, punc = {'.', ',', '!', '?', ':', ';','/','\\\\'}):\n",
    "    new_array = []\n",
    "    for char in data:\n",
    "        if not char in punc: new_array.append(char)\n",
    "    return ''.join(new_array)\n",
    "\n",
    "print('Appending Solution')\n",
    "print(remove_punctuation('Hello, my name is Mike!!'))"
   ]
  },
  {
   "cell_type": "code",
   "execution_count": 70,
   "metadata": {},
   "outputs": [
    {
     "name": "stdout",
     "output_type": "stream",
     "text": [
      "Can be used for addition\n",
      "Suitable for multiplication\n",
      "Not good for any of the big four\n",
      "Suitable for multiplication\n",
      "Can be used for subtraction\n"
     ]
    }
   ],
   "source": [
    "# ----- C-1.26--\n",
    "\n",
    "def arithmetic_check(a,b,c):\n",
    "    if a+b==c:  return 'Can be used for addition'\n",
    "    elif a-b==c: return 'Can be used for subtraction'\n",
    "    elif a*b==c: return 'Suitable for multiplication'  #Note, this approach will miss division for 1, x, x combos\n",
    "    elif a/b==c: return 'Suitable for division'\n",
    "    else: return 'Not good for any of the big four'\n",
    "    \n",
    "print(arithmetic_check(1,2,3))\n",
    "print(arithmetic_check(1,3,3))\n",
    "print(arithmetic_check(1,4,3))\n",
    "print(arithmetic_check(3,1,3))\n",
    "print(arithmetic_check(4,1,3))"
   ]
  },
  {
   "cell_type": "code",
   "execution_count": 72,
   "metadata": {},
   "outputs": [
    {
     "name": "stdout",
     "output_type": "stream",
     "text": [
      "1,2,4,5,10,20,25,50,100,\tReached the end of the generator\n",
      "1,100,2,50,4,25,5,20,10,\tReached the end of the generator\n",
      "1,2,4,5,10,20,25,50,100,\tReached the end of the generator\n"
     ]
    }
   ],
   "source": [
    "# ----- C-1.27--\n",
    "\n",
    "#Approach 2 (From Text/Book)\n",
    "def factors1(n):\n",
    "    for k in range(1, n+1):\n",
    "        if n%k == 0: yield(k)\n",
    "    \n",
    "#Approach 3\n",
    "def factors2(n):\n",
    "    k = 1\n",
    "    while k*k<n:\n",
    "        if n%k == 0:\n",
    "            yield k\n",
    "            yield n//k\n",
    "        k+=1\n",
    "        if k*k == n:\n",
    "            yield k\n",
    "    \n",
    "    \n",
    "def factors_new(n):\n",
    "    k = 1\n",
    "    higher_factors = []\n",
    "    while k*k <n:\n",
    "        if n%k == 0:\n",
    "            yield k\n",
    "            higher_factors.append(n//k)\n",
    "        k+=1\n",
    "        if k*k == n:\n",
    "            yield k\n",
    "    for factor in reversed(higher_factors):\n",
    "        yield factor\n",
    "    \n",
    "    \n",
    "            \n",
    "def gen_tester(fun, n = 100):\n",
    "    gen = fun(100)\n",
    "    for _ in range(n):\n",
    "        \n",
    "        try:\n",
    "            print(next(gen), end = ',')\n",
    "        except StopIteration as e:\n",
    "            print ('\\tReached the end of the generator')\n",
    "            return\n",
    "        \n",
    "\n",
    "            \n",
    "\n",
    "gen_tester(factors1, 100)\n",
    "gen_tester(factors2, 100)   \n",
    "gen_tester(factors_new, 100)"
   ]
  },
  {
   "cell_type": "code",
   "execution_count": 73,
   "metadata": {},
   "outputs": [
    {
     "name": "stdout",
     "output_type": "stream",
     "text": [
      "5.0\n",
      "6.542132620377179\n"
     ]
    }
   ],
   "source": [
    "# ------ C1-28--\n",
    "import math\n",
    "\n",
    "def p_norm(v, p=2):\n",
    "    assert p!=0, 'You cannot use zero as a p-value'\n",
    "    sum = 0\n",
    "    for num in v:\n",
    "        sum += num**p\n",
    "    return sum**(1/p)\n",
    "    \n",
    "print(p_norm([4,3]))\n",
    "print(p_norm([4,3, 4, 5], 3))"
   ]
  },
  {
   "cell_type": "markdown",
   "metadata": {},
   "source": [
    "    Projects"
   ]
  },
  {
   "cell_type": "code",
   "execution_count": 74,
   "metadata": {},
   "outputs": [
    {
     "name": "stdout",
     "output_type": "stream",
     "text": [
      "Approach 1\n",
      "catdog,catdgo,catodg,catogd,catgdo,catgod,cadtog,cadtgo,cadotg,cadogt,cadgto,cadgot,caotdg,caotgd,caodtg,caodgt,caogtd,caogdt,cagtdo,cagtod,cagdto,cagdot,cagotd,cagodt,ctadog,ctadgo,ctaodg,ctaogd,ctagdo,ctagod,ctdaog,ctdago,ctdoag,ctdoga,ctdgao,ctdgoa,ctoadg,ctoagd,ctodag,ctodga,ctogad,ctogda,ctgado,ctgaod,ctgdao,ctgdoa,ctgoad,ctgoda,cdatog,cdatgo,cdaotg,cdaogt,cdagto,cdagot,cdtaog,cdtago,cdtoag,cdtoga,cdtgao,cdtgoa,cdoatg,cdoagt,cdotag,cdotga,cdogat,cdogta,cdgato,cdgaot,cdgtao,cdgtoa,cdgoat,cdgota,coatdg,coatgd,coadtg,coadgt,coagtd,coagdt,cotadg,cotagd,cotdag,cotdga,cotgad,cotgda,codatg,codagt,codtag,codtga,codgat,codgta,cogatd,cogadt,cogtad,cogtda,cogdat,cogdta,cgatdo,cgatod,cgadto,cgadot,cgaotd,cgaodt,cgtado,cgtaod,cgtdao,cgtdoa,cgtoad,cgtoda,cgdato,cgdaot,cgdtao,cgdtoa,cgdoat,cgdota,cgoatd,cgoadt,cgotad,cgotda,cgodat,cgodta,actdog,actdgo,actodg,actogd,actgdo,actgod,acdtog,acdtgo,acdotg,acdogt,acdgto,acdgot,acotdg,acotgd,acodtg,acodgt,acogtd,acogdt,acgtdo,acgtod,acgdto,acgdot,acgotd,acgodt,atcdog,atcdgo,atcodg,atcogd,atcgdo,atcgod,atdcog,atdcgo,atdocg,atdogc,atdgco,atdgoc,atocdg,atocgd,atodcg,atodgc,atogcd,atogdc,atgcdo,atgcod,atgdco,atgdoc,atgocd,atgodc,adctog,adctgo,adcotg,adcogt,adcgto,adcgot,adtcog,adtcgo,adtocg,adtogc,adtgco,adtgoc,adoctg,adocgt,adotcg,adotgc,adogct,adogtc,adgcto,adgcot,adgtco,adgtoc,adgoct,adgotc,aoctdg,aoctgd,aocdtg,aocdgt,aocgtd,aocgdt,aotcdg,aotcgd,aotdcg,aotdgc,aotgcd,aotgdc,aodctg,aodcgt,aodtcg,aodtgc,aodgct,aodgtc,aogctd,aogcdt,aogtcd,aogtdc,aogdct,aogdtc,agctdo,agctod,agcdto,agcdot,agcotd,agcodt,agtcdo,agtcod,agtdco,agtdoc,agtocd,agtodc,agdcto,agdcot,agdtco,agdtoc,agdoct,agdotc,agoctd,agocdt,agotcd,agotdc,agodct,agodtc,tcadog,tcadgo,tcaodg,tcaogd,tcagdo,tcagod,tcdaog,tcdago,tcdoag,tcdoga,tcdgao,tcdgoa,tcoadg,tcoagd,tcodag,tcodga,tcogad,tcogda,tcgado,tcgaod,tcgdao,tcgdoa,tcgoad,tcgoda,tacdog,tacdgo,tacodg,tacogd,tacgdo,tacgod,tadcog,tadcgo,tadocg,tadogc,tadgco,tadgoc,taocdg,taocgd,taodcg,taodgc,taogcd,taogdc,tagcdo,tagcod,tagdco,tagdoc,tagocd,tagodc,tdcaog,tdcago,tdcoag,tdcoga,tdcgao,tdcgoa,tdacog,tdacgo,tdaocg,tdaogc,tdagco,tdagoc,tdocag,tdocga,tdoacg,tdoagc,tdogca,tdogac,tdgcao,tdgcoa,tdgaco,tdgaoc,tdgoca,tdgoac,tocadg,tocagd,tocdag,tocdga,tocgad,tocgda,toacdg,toacgd,toadcg,toadgc,toagcd,toagdc,todcag,todcga,todacg,todagc,todgca,todgac,togcad,togcda,togacd,togadc,togdca,togdac,tgcado,tgcaod,tgcdao,tgcdoa,tgcoad,tgcoda,tgacdo,tgacod,tgadco,tgadoc,tgaocd,tgaodc,tgdcao,tgdcoa,tgdaco,tgdaoc,tgdoca,tgdoac,tgocad,tgocda,tgoacd,tgoadc,tgodca,tgodac,dcatog,dcatgo,dcaotg,dcaogt,dcagto,dcagot,dctaog,dctago,dctoag,dctoga,dctgao,dctgoa,dcoatg,dcoagt,dcotag,dcotga,dcogat,dcogta,dcgato,dcgaot,dcgtao,dcgtoa,dcgoat,dcgota,dactog,dactgo,dacotg,dacogt,dacgto,dacgot,datcog,datcgo,datocg,datogc,datgco,datgoc,daoctg,daocgt,daotcg,daotgc,daogct,daogtc,dagcto,dagcot,dagtco,dagtoc,dagoct,dagotc,dtcaog,dtcago,dtcoag,dtcoga,dtcgao,dtcgoa,dtacog,dtacgo,dtaocg,dtaogc,dtagco,dtagoc,dtocag,dtocga,dtoacg,dtoagc,dtogca,dtogac,dtgcao,dtgcoa,dtgaco,dtgaoc,dtgoca,dtgoac,docatg,docagt,doctag,doctga,docgat,docgta,doactg,doacgt,doatcg,doatgc,doagct,doagtc,dotcag,dotcga,dotacg,dotagc,dotgca,dotgac,dogcat,dogcta,dogact,dogatc,dogtca,dogtac,dgcato,dgcaot,dgctao,dgctoa,dgcoat,dgcota,dgacto,dgacot,dgatco,dgatoc,dgaoct,dgaotc,dgtcao,dgtcoa,dgtaco,dgtaoc,dgtoca,dgtoac,dgocat,dgocta,dgoact,dgoatc,dgotca,dgotac,ocatdg,ocatgd,ocadtg,ocadgt,ocagtd,ocagdt,octadg,octagd,octdag,octdga,octgad,octgda,ocdatg,ocdagt,ocdtag,ocdtga,ocdgat,ocdgta,ocgatd,ocgadt,ocgtad,ocgtda,ocgdat,ocgdta,oactdg,oactgd,oacdtg,oacdgt,oacgtd,oacgdt,oatcdg,oatcgd,oatdcg,oatdgc,oatgcd,oatgdc,oadctg,oadcgt,oadtcg,oadtgc,oadgct,oadgtc,oagctd,oagcdt,oagtcd,oagtdc,oagdct,oagdtc,otcadg,otcagd,otcdag,otcdga,otcgad,otcgda,otacdg,otacgd,otadcg,otadgc,otagcd,otagdc,otdcag,otdcga,otdacg,otdagc,otdgca,otdgac,otgcad,otgcda,otgacd,otgadc,otgdca,otgdac,odcatg,odcagt,odctag,odctga,odcgat,odcgta,odactg,odacgt,odatcg,odatgc,odagct,odagtc,odtcag,odtcga,odtacg,odtagc,odtgca,odtgac,odgcat,odgcta,odgact,odgatc,odgtca,odgtac,ogcatd,ogcadt,ogctad,ogctda,ogcdat,ogcdta,ogactd,ogacdt,ogatcd,ogatdc,ogadct,ogadtc,ogtcad,ogtcda,ogtacd,ogtadc,ogtdca,ogtdac,ogdcat,ogdcta,ogdact,ogdatc,ogdtca,ogdtac,gcatdo,gcatod,gcadto,gcadot,gcaotd,gcaodt,gctado,gctaod,gctdao,gctdoa,gctoad,gctoda,gcdato,gcdaot,gcdtao,gcdtoa,gcdoat,gcdota,gcoatd,gcoadt,gcotad,gcotda,gcodat,gcodta,gactdo,gactod,gacdto,gacdot,gacotd,gacodt,gatcdo,gatcod,gatdco,gatdoc,gatocd,gatodc,gadcto,gadcot,gadtco,gadtoc,gadoct,gadotc,gaoctd,gaocdt,gaotcd,gaotdc,gaodct,gaodtc,gtcado,gtcaod,gtcdao,gtcdoa,gtcoad,gtcoda,gtacdo,gtacod,gtadco,gtadoc,gtaocd,gtaodc,gtdcao,gtdcoa,gtdaco,gtdaoc,gtdoca,gtdoac,gtocad,gtocda,gtoacd,gtoadc,gtodca,gtodac,gdcato,gdcaot,gdctao,gdctoa,gdcoat,gdcota,gdacto,gdacot,gdatco,gdatoc,gdaoct,gdaotc,gdtcao,gdtcoa,gdtaco,gdtaoc,gdtoca,gdtoac,gdocat,gdocta,gdoact,gdoatc,gdotca,gdotac,gocatd,gocadt,goctad,goctda,gocdat,gocdta,goactd,goacdt,goatcd,goatdc,goadct,goadtc,gotcad,gotcda,gotacd,gotadc,gotdca,gotdac,godcat,godcta,godact,godatc,godtca,godtac,1243fg,1243gf,12f43g,12fg43,12g43f,12gf43,1432fg,1432gf,143f2g,143fg2,143g2f,143gf2,1f243g,1f2g43,1f432g,1f43g2,1fg243,1fg432,1g243f,1g2f43,1g432f,1g43f2,1gf243,1gf432,2143fg,2143gf,21f43g,21fg43,21g43f,21gf43,2431fg,2431gf,243f1g,243fg1,243g1f,243gf1,2f143g,2f1g43,2f431g,2f43g1,2fg143,2fg431,2g143f,2g1f43,2g431f,2g43f1,2gf143,2gf431,4312fg,4312gf,431f2g,431fg2,431g2f,431gf2,4321fg,4321gf,432f1g,432fg1,432g1f,432gf1,43f12g,43f1g2,43f21g,43f2g1,43fg12,43fg21,43g12f,43g1f2,43g21f,43g2f1,43gf12,43gf21,f1243g,f12g43,f1432g,f143g2,f1g243,f1g432,f2143g,f21g43,f2431g,f243g1,f2g143,f2g431,f4312g,f431g2,f4321g,f432g1,f43g12,f43g21,fg1243,fg1432,fg2143,fg2431,fg4312,fg4321,g1243f,g12f43,g1432f,g143f2,g1f243,g1f432,g2143f,g21f43,g2431f,g243f1,g2f143,g2f431,g4312f,g431f2,g4321f,g432f1,g43f12,g43f21,gf1243,gf1432,gf2143,gf2431,gf4312,gf4321,"
     ]
    }
   ],
   "source": [
    "# ----- P-1.29--\n",
    "\n",
    "def recursion(sub_data, string):\n",
    "    if len(sub_data) == 1: \n",
    "        print (''.join(list(map(str, string+sub_data))), end = ',')\n",
    "        return\n",
    "    else:\n",
    "        for i in range(len(sub_data)):\n",
    "            new_subdata = [sub_data[x] for x in range(len(sub_data)) if x!=i] #Make a list with everything but your current item\n",
    "            recursion(new_subdata, string+ [sub_data[i]])\n",
    "            \n",
    "            \n",
    "def all_combos(data):\n",
    "    assert len(data)>0, 'You have provided an empty string/array'\n",
    "    recursion(list(data), [])\n",
    "    \n",
    "    \n",
    "print('Approach 1') \n",
    "all_combos('catdog')\n",
    "all_combos([1,2,43,'f','g'])"
   ]
  },
  {
   "cell_type": "code",
   "execution_count": 77,
   "metadata": {},
   "outputs": [
    {
     "name": "stdout",
     "output_type": "stream",
     "text": [
      "\n",
      "Approach 2\n",
      "1, 2, 2, 2, 2, 3, 3, 3, 3, 3, 3, 3, 3, 4, 4, 4, 4, 4, 4, 4, 4, 4, 4, 4, 4, 4, 4, 4, 4, 5, 5, 5, 5, 5, 5, 5, 5, 5, 5, 5, 5, 5, 5, 5, 5, 5, 5, 5, 5, 5, 5, 5, 5, 5, 5, 5, 5, 5, 5, 5, 5, 6, 6, 6, 6, 6, 6, 6, 6, 6, 6, 6, 6, 6, 6, 6, 6, 6, 6, 6, 6, 6, 6, 6, 6, 6, 6, 6, 6, 6, 6, 6, 6, 6, 6, 6, 6, "
     ]
    }
   ],
   "source": [
    "# ------ P-1.30--\n",
    "\n",
    "def find_num_divide_2_before_getting(number):\n",
    "    divides = 0\n",
    "    while number>=2:\n",
    "        divides += 1\n",
    "        number /= 2\n",
    "    return (divides)\n",
    "\n",
    "print ('\\nApproach 2')\n",
    "for x in range(3,100):\n",
    "    print (find_num_divide_2_before_getting(x), end = ', ')"
   ]
  },
  {
   "cell_type": "code",
   "execution_count": 78,
   "metadata": {},
   "outputs": [
    {
     "name": "stdout",
     "output_type": "stream",
     "text": [
      "{100: 4, 20: 1, 5: 1}\n",
      "{100: 4, 20: 1, 5: 1, 0.25: 3, 0.05: 1, 0.01: 4}\n"
     ]
    }
   ],
   "source": [
    "# ----- P-1.31--\n",
    "\n",
    "def make_change(given, charged, denominations = [100, 20, 10, 5, 2, 1, 0.25, 0.10, 0.05, 0.01]):\n",
    "    assert given >= charged, 'The customer has not given enough!'\n",
    "    change = {}\n",
    "    residual = given-charged\n",
    "    for denomination in denominations:\n",
    "        amount, residual = divmod(residual, denomination)\n",
    "        if amount: change[denomination] = int(amount) #This will only add non-zero amounts to the dictionary\n",
    "    return change\n",
    "\n",
    "print(make_change(1000, 575))\n",
    "print(make_change(1000.84, 575))"
   ]
  },
  {
   "cell_type": "code",
   "execution_count": 79,
   "metadata": {},
   "outputs": [],
   "source": [
    "#------- P1-32 and P1-33--\n",
    "#Note: This assumes that the order is correct and that inputting two operands in a row is illegal\n",
    "\n",
    "def perform_arithmetic(n1, op, n2):\n",
    "    if op == '+': return n1 + n2\n",
    "    elif op == '-': return n1 - n2\n",
    "    elif op == '/': return n1/n2\n",
    "    elif op == '*': return n1*n2\n",
    "    else: return 'Invalid operand'\n",
    "\n",
    "def convert_to_number(input_str):\n",
    "    try:\n",
    "        return float(input_str)\n",
    "    except ValueError as e:\n",
    "        print ('Invalid input')\n",
    "        return None\n",
    "\n",
    "def simple_calculator():\n",
    "    operands = {'+', '-', '*', '/'}\n",
    "    first_number = None\n",
    "    second_number = None\n",
    "    operand = None\n",
    "    input_str = 'Start'\n",
    "    while input_str != 'Exit' and input_str != '':\n",
    "        input_str = input()\n",
    "        if input_str == 'Exit' or input_str == '':\n",
    "            pass\n",
    "        elif input_str == 'clr':\n",
    "            first_number = second_number = operand = None\n",
    "        elif first_number is None:\n",
    "            first_number = convert_to_number(input_str)\n",
    "        elif operand is None:\n",
    "            if input_str in operands: operand = input_str\n",
    "            else: first_number = convert_to_number(input_str)\n",
    "        else: #Here we are expecting the second number\n",
    "            second_number = convert_to_number(input_str)\n",
    "            print (f'{first_number}{operand}{second_number} = {perform_arithmetic(first_number, operand, second_number)}')\n",
    "            first_number = second_number = operand = None\n",
    "            \n",
    "        \n",
    "simple_calculator()"
   ]
  },
  {
   "cell_type": "code",
   "execution_count": 81,
   "metadata": {},
   "outputs": [
    {
     "name": "stdout",
     "output_type": "stream",
     "text": [
      "I will never spam my friends again\n",
      "I will never spam Ey friends again <- This is the typo\n",
      "I will never spam my friends again\n",
      "I will never spam my friends again\n",
      "I will never spaE my friends again <- This is the typo\n",
      "I will never spam my friends again\n",
      "I will never spam my friends again\n",
      "I will never spam my friends again\n",
      "I will never spam my friends again\n",
      "I will never spam my friends again\n",
      "I will never spam my friends again\n",
      "I will never spam my friends again\n",
      "I will never spam my friends again\n",
      "I will never spam my friends again\n",
      "I will never spam my friends again\n",
      "I wilc never spam my friends again <- This is the typo\n",
      "I will never spam my friends again\n",
      "I will never spam my friends again\n",
      "I will never spam my friends again\n",
      "I will never spam my friends again\n",
      "I will never spam my friends again\n",
      "I will never spam my friends again\n",
      "I will never spamWmy friends again <- This is the typo\n",
      "I will never spam my friends again\n",
      "I will never spam my friends again\n",
      "I will never spam my friends again\n",
      "I will never spam my friends again\n",
      "I will never spam my friends again\n",
      "I will never spam my friends again\n",
      "I will never dpam my friends again <- This is the typo\n",
      "I will never spam my friends again\n",
      "I will never spam my friends again\n",
      "I will never spam my friends again\n",
      "I will never spam my friends again\n",
      "I will never spam my friends again\n",
      "I will never spam my friends again\n",
      "I will never spam my friends again\n",
      "I will never spam my friends again\n",
      "I will never spam my friends again\n",
      "I will never spam my friends again\n",
      "I will never spam my friends again\n",
      "I will never spam my friends again\n",
      "I will never spam my friends again\n",
      "I will never spam my friends again\n",
      "I will never spam my friends again\n",
      "I will never spam mI friends again <- This is the typo\n",
      "I will never spam my friends again\n",
      "I will never spam my friends again\n",
      "I will never spam my friends again\n",
      "I will never spam my friends again\n",
      "I will never spam my friends again\n",
      "I will never spam my friends again\n",
      "I will never spam my friends again\n",
      "I will never spam my friends again\n",
      "I will never spam my friends again\n",
      "I will never spam my friends again\n",
      "I will never spam my friends again\n",
      "I will never spam my friends again\n",
      "I will never spam my friends again\n",
      "I will never spam my friends again\n",
      "I will never spam my friends again\n",
      "I will never spam my friends aggin <- This is the typo\n",
      "I will never spam my friends again\n",
      "I will never spam my friends agUin <- This is the typo\n",
      "I will never spam my friends again\n",
      "I will never spam my friends again\n",
      "I will never spam my friends again\n",
      "I will never spam my friends again\n",
      "I will never spam my friends again\n",
      "I will never spam my friends again\n",
      "I will never spam my friends again\n",
      "I will never spam my friends again\n",
      "I will never spam my friends again\n",
      "I will never spam my friends again\n",
      "I will never spam my friends again\n",
      "I will never spam my friends again\n",
      "I will never spam my friends again\n",
      "I will never spam my friends again\n",
      "I will never spam my friends again\n",
      "I will never spam my friends again\n",
      "I will never spam my friends again\n",
      "I will never spam my friends again\n",
      "I will never spam my friends again\n",
      "I will never spam my friends again\n",
      "I will never spam my friends again\n",
      "I will never spam my friends again\n",
      "I will never spam my friends again\n",
      "I will never spam my friends again\n",
      "I will never spam my friends again\n",
      "I will never spam my friends again\n",
      "I will never spam my friends again\n",
      "I will never spam my friends again\n",
      "I will never spam my friends again\n",
      "I will never spam my friends again\n",
      "I will never spam my friends again\n",
      "I will never spam my friends again\n",
      "I will never spam my friends again\n",
      "I will never spam my friends again\n",
      "I will never spam my friends again\n",
      "I will never spam my friends again\n"
     ]
    }
   ],
   "source": [
    "# -------P.1.34--\n",
    "\n",
    "#Note, assuming the typo is one per line and \n",
    "import random\n",
    "\n",
    "\n",
    "def create_typo(message, char_range):\n",
    "    error_spot = random.randrange(0, len(message))\n",
    "    error_character = random.choice(char_range)\n",
    "    incorrect_message = list(message)\n",
    "    incorrect_message[error_spot] = chr(error_character)\n",
    "    return (''.join(incorrect_message))\n",
    "    \n",
    "\n",
    "\n",
    "\n",
    "def spamAlot(message, num_errors = 8, num_lines = 100):\n",
    "    #find all the character values for Aa-Zz\n",
    "    char_range = list(range(ord('A'), ord('Z')+1)) + list(range(ord('a'), ord('z')+1))\n",
    "    message\n",
    "    \n",
    "    line_count = 0\n",
    "    error_lines = set()\n",
    "    while line_count <num_errors:\n",
    "        new_error_line = random.randrange(num_lines)\n",
    "        if new_error_line not in error_lines:\n",
    "            error_lines.add(new_error_line)\n",
    "            line_count += 1\n",
    "    \n",
    "    for i in range (num_lines):\n",
    "        if i not in error_lines:\n",
    "            print (message)\n",
    "        else:\n",
    "            print (create_typo(message, char_range), '<- This is the typo')\n",
    "            \n",
    "            \n",
    "spamAlot('I will never spam my friends again')"
   ]
  },
  {
   "cell_type": "code",
   "execution_count": 82,
   "metadata": {},
   "outputs": [
    {
     "name": "stdout",
     "output_type": "stream",
     "text": [
      "For 0 people, the probability is approximately: 0.0\n",
      "For 1 people, the probability is approximately: 0.0\n",
      "For 2 people, the probability is approximately: 0.0\n",
      "For 3 people, the probability is approximately: 0.01\n",
      "For 4 people, the probability is approximately: 0.01\n",
      "For 5 people, the probability is approximately: 0.03\n",
      "For 6 people, the probability is approximately: 0.07\n",
      "For 7 people, the probability is approximately: 0.06\n",
      "For 8 people, the probability is approximately: 0.05\n",
      "For 9 people, the probability is approximately: 0.07\n",
      "For 10 people, the probability is approximately: 0.1\n",
      "For 11 people, the probability is approximately: 0.17\n",
      "For 12 people, the probability is approximately: 0.16\n",
      "For 13 people, the probability is approximately: 0.2\n",
      "For 14 people, the probability is approximately: 0.27\n",
      "For 15 people, the probability is approximately: 0.2\n",
      "For 16 people, the probability is approximately: 0.25\n",
      "For 17 people, the probability is approximately: 0.3\n",
      "For 18 people, the probability is approximately: 0.32\n",
      "For 19 people, the probability is approximately: 0.39\n",
      "For 20 people, the probability is approximately: 0.48\n",
      "For 21 people, the probability is approximately: 0.45\n",
      "For 22 people, the probability is approximately: 0.5\n",
      "For 23 people, the probability is approximately: 0.51\n",
      "For 24 people, the probability is approximately: 0.58\n",
      "For 25 people, the probability is approximately: 0.6\n",
      "For 26 people, the probability is approximately: 0.52\n",
      "For 27 people, the probability is approximately: 0.64\n",
      "For 28 people, the probability is approximately: 0.66\n",
      "For 29 people, the probability is approximately: 0.72\n",
      "For 30 people, the probability is approximately: 0.73\n",
      "For 31 people, the probability is approximately: 0.72\n",
      "For 32 people, the probability is approximately: 0.76\n",
      "For 33 people, the probability is approximately: 0.78\n",
      "For 34 people, the probability is approximately: 0.81\n",
      "For 35 people, the probability is approximately: 0.89\n",
      "For 36 people, the probability is approximately: 0.76\n",
      "For 37 people, the probability is approximately: 0.88\n",
      "For 38 people, the probability is approximately: 0.85\n",
      "For 39 people, the probability is approximately: 0.95\n",
      "For 40 people, the probability is approximately: 0.87\n",
      "For 41 people, the probability is approximately: 0.9\n",
      "For 42 people, the probability is approximately: 0.91\n",
      "For 43 people, the probability is approximately: 0.94\n",
      "For 44 people, the probability is approximately: 0.94\n",
      "For 45 people, the probability is approximately: 0.96\n",
      "For 46 people, the probability is approximately: 0.97\n",
      "For 47 people, the probability is approximately: 0.93\n",
      "For 48 people, the probability is approximately: 0.98\n",
      "For 49 people, the probability is approximately: 0.95\n",
      "For 50 people, the probability is approximately: 0.99\n",
      "For 51 people, the probability is approximately: 0.97\n",
      "For 52 people, the probability is approximately: 0.99\n",
      "For 53 people, the probability is approximately: 0.97\n",
      "For 54 people, the probability is approximately: 0.96\n",
      "For 55 people, the probability is approximately: 1.0\n",
      "For 56 people, the probability is approximately: 1.0\n",
      "For 57 people, the probability is approximately: 0.99\n",
      "For 58 people, the probability is approximately: 0.99\n",
      "For 59 people, the probability is approximately: 0.99\n",
      "For 60 people, the probability is approximately: 0.99\n",
      "For 61 people, the probability is approximately: 1.0\n",
      "For 62 people, the probability is approximately: 1.0\n",
      "For 63 people, the probability is approximately: 1.0\n",
      "For 64 people, the probability is approximately: 1.0\n",
      "For 65 people, the probability is approximately: 1.0\n",
      "For 66 people, the probability is approximately: 1.0\n",
      "For 67 people, the probability is approximately: 1.0\n",
      "For 68 people, the probability is approximately: 1.0\n",
      "For 69 people, the probability is approximately: 1.0\n",
      "For 70 people, the probability is approximately: 1.0\n",
      "For 71 people, the probability is approximately: 1.0\n",
      "For 72 people, the probability is approximately: 1.0\n",
      "For 73 people, the probability is approximately: 1.0\n",
      "For 74 people, the probability is approximately: 1.0\n",
      "For 75 people, the probability is approximately: 1.0\n",
      "For 76 people, the probability is approximately: 1.0\n",
      "For 77 people, the probability is approximately: 1.0\n",
      "For 78 people, the probability is approximately: 1.0\n",
      "For 79 people, the probability is approximately: 1.0\n",
      "For 80 people, the probability is approximately: 1.0\n",
      "For 81 people, the probability is approximately: 1.0\n",
      "For 82 people, the probability is approximately: 1.0\n",
      "For 83 people, the probability is approximately: 1.0\n",
      "For 84 people, the probability is approximately: 1.0\n",
      "For 85 people, the probability is approximately: 1.0\n",
      "For 86 people, the probability is approximately: 1.0\n",
      "For 87 people, the probability is approximately: 1.0\n",
      "For 88 people, the probability is approximately: 1.0\n",
      "For 89 people, the probability is approximately: 1.0\n",
      "For 90 people, the probability is approximately: 1.0\n",
      "For 91 people, the probability is approximately: 1.0\n",
      "For 92 people, the probability is approximately: 1.0\n",
      "For 93 people, the probability is approximately: 1.0\n",
      "For 94 people, the probability is approximately: 1.0\n",
      "For 95 people, the probability is approximately: 1.0\n",
      "For 96 people, the probability is approximately: 1.0\n",
      "For 97 people, the probability is approximately: 1.0\n",
      "For 98 people, the probability is approximately: 1.0\n",
      "For 99 people, the probability is approximately: 1.0\n",
      "For 100 people, the probability is approximately: 1.0\n"
     ]
    }
   ],
   "source": [
    "# -------- P/1.35--\n",
    "import random\n",
    "def test_birthday_paradox(num_people):\n",
    "    birthdays = [random.randrange(0,365) for _ in range(num_people)]\n",
    "    birthday_set = set()\n",
    "    for bday in birthdays:\n",
    "        if bday in birthday_set: return True\n",
    "        else: birthday_set.add(bday)\n",
    "    return False\n",
    "\n",
    "\n",
    "def paradox_stats(num_people = 23, num_trials = 100):\n",
    "    num_successes = 0\n",
    "    for _ in range(num_trials):\n",
    "        if test_birthday_paradox(num_people): num_successes += 1\n",
    "    return num_successes/num_trials\n",
    "\n",
    "\n",
    "for x in range(101):\n",
    "    print (f'For {x} people, the probability is approximately: {paradox_stats(x)}')\n",
    "            "
   ]
  },
  {
   "cell_type": "code",
   "execution_count": 83,
   "metadata": {},
   "outputs": [
    {
     "data": {
      "text/plain": [
       "{'pppppppppppppppppppppppppppppppppppppppppppppppppppp': 1,\n",
       " 'ooooooooooooooooooooooooooooooooooooooooooooo': 2,\n",
       " 'pppppppppyyyyyyyyyyyyyyyyyyyyyyyyyyyyyyyyyyyyyyyyyyy': 1,\n",
       " 'mmmmmmmmmmmmmmmmmmmmmmmmmmmmmmmmmmmmmmmmmmmmmmmmmmm': 1,\n",
       " 'bbbbbbbbbbbbbbbbbbbbbbbbbbbbbbbbbbbbbbbbbbbbbbbbbbb': 1,\n",
       " 'aaaaaaaaaaaaaaaaaaaaaaaaaaaaaaaaaaaaaaaaaaaaaaaaaaaaaaaa': 1,\n",
       " 'zzzzzzzzzzzzzzzzzzzzzzzzzzzzzzzzzzzzzzzzzzzz': 1}"
      ]
     },
     "execution_count": 83,
     "metadata": {},
     "output_type": "execute_result"
    }
   ],
   "source": [
    "# ------- P1.36--\n",
    "\n",
    "#-------P1-36\n",
    "def clean_up_text(text):   \n",
    "    text = text.lower()\n",
    "    \n",
    "    unwanted_chars = {'\\n', '.', '!', \"'\", '?', ','}\n",
    "    for char in unwanted_chars:\n",
    "        text = text.replace(char, ' ')\n",
    "    return text\n",
    "\n",
    "def open_txt_file(filepath):\n",
    "    fp = open(filepath)\n",
    "    text = fp.read()\n",
    "    return(text)\n",
    "\n",
    "\n",
    "def word_count(text):\n",
    "    text = clean_up_text(text)\n",
    "    word_array = text.split(' ')\n",
    "    word_counts = {} #This creates a dict, not a set\n",
    "    for word in word_array:\n",
    "        if word in word_counts:\n",
    "            word_counts[word] += 1\n",
    "        else:\n",
    "            word_counts[word] = 1\n",
    "            \n",
    "    #Clean up extra whitespace\n",
    "    if '' in word_counts: del word_counts['']\n",
    "            \n",
    "            \n",
    "    return word_counts\n",
    "\n",
    "\n",
    "word_count(open_txt_file(r'p.txt'))\n",
    "\n",
    "# i wish we would use nltk to generate data, it would have been fun-----let's keep things simple"
   ]
  }
 ],
 "metadata": {
  "kernelspec": {
   "display_name": "Python 3.10.2 64-bit",
   "language": "python",
   "name": "python3"
  },
  "language_info": {
   "codemirror_mode": {
    "name": "ipython",
    "version": 3
   },
   "file_extension": ".py",
   "mimetype": "text/x-python",
   "name": "python",
   "nbconvert_exporter": "python",
   "pygments_lexer": "ipython3",
   "version": "3.10.2"
  },
  "orig_nbformat": 4,
  "vscode": {
   "interpreter": {
    "hash": "412ccff6fb13ee14c93d2b8b85fab99f2d3a6250a390f2b105cadca88f5395d9"
   }
  }
 },
 "nbformat": 4,
 "nbformat_minor": 2
}
